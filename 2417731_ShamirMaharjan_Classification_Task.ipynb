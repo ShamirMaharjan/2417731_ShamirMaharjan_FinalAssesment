{
 "cells": [
  {
   "cell_type": "code",
   "execution_count": 2,
   "id": "14dd6a36-a446-4057-b508-fe15fcc6c595",
   "metadata": {},
   "outputs": [],
   "source": [
    "import numpy as np;\n",
    "import pandas as pd;\n",
    "import matplotlib.pyplot as plt;\n",
    "import seaborn as sns\n",
    "from sklearn.model_selection import train_test_split\n",
    "from sklearn.linear_model import LinearRegression\n",
    "from sklearn.ensemble import RandomForestRegressor\n",
    "from sklearn.metrics import mean_squared_error, r2_score\n",
    "from sklearn.model_selection import GridSearchCV, RandomizedSearchCV\n"
   ]
  },
  {
   "cell_type": "markdown",
   "id": "9eff5f96-1570-4439-9d52-65511d85b82c",
   "metadata": {},
   "source": [
    "For Classification Task"
   ]
  },
  {
   "cell_type": "markdown",
   "id": "a50633ee-2e1f-414f-bf44-de81c5b751e8",
   "metadata": {},
   "source": [
    "Load the dataset into a DataFrame object using the Pandas library."
   ]
  },
  {
   "cell_type": "code",
   "execution_count": 3,
   "id": "f42c84c8-ffcc-4da9-9619-40e9cd536272",
   "metadata": {},
   "outputs": [],
   "source": [
    "df = pd.read_csv(r\"C:\\Users\\LOQ\\Machine Learning Assignment\\Final Assesment\\Life Expectancy Data.csv\")\n",
    "df.columns = df.columns.str.strip()"
   ]
  },
  {
   "cell_type": "markdown",
   "id": "135ec195-ff2b-4cc2-bd1a-a6e91d3027b8",
   "metadata": {},
   "source": [
    "• Perform an initial analysis to gather a detailed description of the dataset. For example:\n",
    "\n",
    "(a) When and by whom was the dataset created?"
   ]
  },
  {
   "cell_type": "markdown",
   "id": "5b9331d3-d719-4d70-b514-21ea7261c96c",
   "metadata": {},
   "source": [
    "-> The dataset was created by the World Health Organization (WHO) in collaboration with the United Nations (for economic data). It aggregates health and economic indicators from 2000 to 2015 across 193 countries. The project acknowledges contributions from researchers like Deeksha Russell and Duan Wang, who compiled and merged data from WHO’s Global Health Observatory (GHO) and UN sources"
   ]
  },
  {
   "cell_type": "markdown",
   "id": "5bd9ae04-c5e7-40a6-a182-ad563211b44f",
   "metadata": {},
   "source": [
    "(b) How did you access the dataset?"
   ]
  },
  {
   "cell_type": "markdown",
   "id": "03054aa1-ce4a-4f63-8478-dbf2f5c8c11e",
   "metadata": {},
   "source": [
    "-> I accessed the that through Kaggle under the title \"Life Expectency (WHO)\""
   ]
  },
  {
   "cell_type": "markdown",
   "id": "558bb21c-1847-4ccc-a744-fa59fbdf302a",
   "metadata": {},
   "source": [
    "(c) How does it align with the chosen UNSDG?"
   ]
  },
  {
   "cell_type": "markdown",
   "id": "72ee2a9c-7331-47ce-919a-1ed8386dc881",
   "metadata": {},
   "source": [
    "-> This dataset aligns closely with UNSDG 3: Good Health and Well-being, which aims to \"ensure healthy lives and promote well-being for all at all ages."
   ]
  },
  {
   "cell_type": "markdown",
   "id": "259c0b63-456e-4592-b2d2-6e3aab8adee0",
   "metadata": {},
   "source": [
    "(d) List all the attributes (columns) present in the dataset."
   ]
  },
  {
   "cell_type": "markdown",
   "id": "027649f2-7026-4abd-9232-de62fbc5fa8d",
   "metadata": {},
   "source": [
    "-> The dataset contains 7 columns which are:-\n",
    "1. Country\n",
    "\n",
    "2. Year (2000–2015)\n",
    "\n",
    "3. Status (Developed/Developing)\n",
    "\n",
    "4. Life Expectancy\n",
    "\n",
    "5. Adult Mortality (deaths per 1000, ages 15–60)\n",
    "\n",
    "6. Infant Deaths (per 1000)\n",
    "\n",
    "7. Alcohol Consumption (liters per capita)\n",
    "\n",
    "8. Percentage Expenditure (healthcare)\n",
    "\n",
    "9. Hepatitis B Immunization (%)\n",
    "\n",
    "10. Measles Cases (per 1000)\n",
    "\n",
    "11. BMI (average)\n",
    "\n",
    "12. Under-Five Deaths (per 1000)\n",
    "\n",
    "13. Polio Immunization (%)\n",
    "\n",
    "14. Total Expenditure (healthcare)\n",
    "\n",
    "15. Diphtheria Immunization (%)\n",
    "\n",
    "16. HIV/AIDS Deaths (per 1000)\n",
    "\n",
    "17. GDP\n",
    "\n",
    "18. Population\n",
    "\n",
    "19. Thinness 1–19 Years (%)\n",
    "\n",
    "20. Thinness 5–9 Years (%)\n",
    "\n",
    "21. Income Composition of Resources (index 0–1)\n",
    "\n",
    "22. Schooling (years)\n",
    "\n"
   ]
  },
  {
   "cell_type": "markdown",
   "id": "3faf97c4-5be9-42de-bbef-8b516f389696",
   "metadata": {},
   "source": [
    "• Identify potential questions that the dataset could help answer."
   ]
  },
  {
   "cell_type": "markdown",
   "id": "5cce729e-6ad5-4076-ab16-2f5171559eec",
   "metadata": {},
   "source": [
    "-> The potential questions that the dataset could help answer are:\n",
    "1. How do immunization rates (e.g., polio, hepatitis B) correlate with life expectancy?\n",
    "\n",
    "2. Does healthcare expenditure improve life expectancy in low-income countries?\n",
    "\n",
    "3. What is the relationship between adult mortality and socioeconomic factors (e.g., GDP, schooling)?\n",
    "\n",
    "4. How significant are lifestyle factors (BMI, alcohol consumption) in predicting lifespan?\n",
    "\n",
    "5. Are densely populated countries more likely to have lower life expectancy?"
   ]
  },
  {
   "cell_type": "markdown",
   "id": "2abcd5ab-eea0-4de8-9570-d97e0bce3eee",
   "metadata": {},
   "source": [
    "• Assess the dataset’s suitability for analysis (e.g., data completeness, relevance, and quality)."
   ]
  },
  {
   "cell_type": "markdown",
   "id": "188a1d05-9586-434f-a897-9e8ede2d91a1",
   "metadata": {},
   "source": [
    "-> The dataset has missing data (~5% of rows) for GDP, Hepatitis B, and population, especially in smaller nations (e.g., Vanuatu). The relevance is high as it covers critical health, economic, and social factors over 15 years and also aligns with SDG 3 priorities. The dataset is reliable as primary sources are WHO and UN."
   ]
  },
  {
   "cell_type": "markdown",
   "id": "18a28e3e-73d6-4c70-ad4b-8229e0e94bd0",
   "metadata": {},
   "source": [
    "2. Conducting Exploratory Data Analysis (EDA):\n",
    "\n",
    "Understanding the characteristics of the data beforehand is crucial for building a model with\n",
    "acceptable performance. Before proceeding to build, train, and test the model, write code to\n",
    "inspect, preview, summarize, explore, and visualize your data."
   ]
  },
  {
   "cell_type": "markdown",
   "id": "3167658c-3fb9-49b7-96e2-1608f5c56a86",
   "metadata": {},
   "source": [
    "Preview Data"
   ]
  },
  {
   "cell_type": "code",
   "execution_count": 5,
   "id": "79213864-6e30-454c-b9ad-306c9eabe0ad",
   "metadata": {},
   "outputs": [
    {
     "name": "stdout",
     "output_type": "stream",
     "text": [
      "First 5 rows:\n",
      "first 5 row\n",
      "       Country  Year      Status  Life expectancy  Adult Mortality  \\\n",
      "0  Afghanistan  2015  Developing             65.0            263.0   \n",
      "1  Afghanistan  2014  Developing             59.9            271.0   \n",
      "2  Afghanistan  2013  Developing             59.9            268.0   \n",
      "3  Afghanistan  2012  Developing             59.5            272.0   \n",
      "4  Afghanistan  2011  Developing             59.2            275.0   \n",
      "\n",
      "   infant deaths  Alcohol  Percentage expenditure  Hepatitis B  Measles  ...  \\\n",
      "0             62     0.01               71.279624         65.0     1154  ...   \n",
      "1             64     0.01               73.523582         62.0      492  ...   \n",
      "2             66     0.01               73.219243         64.0      430  ...   \n",
      "3             69     0.01               78.184215         67.0     2787  ...   \n",
      "4             71     0.01                7.097109         68.0     3013  ...   \n",
      "\n",
      "   Polio  Total expenditure  Diphtheria  HIV/AIDS         GDP  Population  \\\n",
      "0    6.0               8.16        65.0       0.1  584.259210  33736494.0   \n",
      "1   58.0               8.18        62.0       0.1  612.696514    327582.0   \n",
      "2   62.0               8.13        64.0       0.1  631.744976  31731688.0   \n",
      "3   67.0               8.52        67.0       0.1  669.959000   3696958.0   \n",
      "4   68.0               7.87        68.0       0.1   63.537231   2978599.0   \n",
      "\n",
      "   thinness 1-19 years  thinness 5-9 years  Income composition of resources  \\\n",
      "0                 17.2                17.3                            0.479   \n",
      "1                 17.5                17.5                            0.476   \n",
      "2                 17.7                17.7                            0.470   \n",
      "3                 17.9                18.0                            0.463   \n",
      "4                 18.2                18.2                            0.454   \n",
      "\n",
      "   Schooling  \n",
      "0       10.1  \n",
      "1       10.0  \n",
      "2        9.9  \n",
      "3        9.8  \n",
      "4        9.5  \n",
      "\n",
      "[5 rows x 22 columns]\n",
      "Last 5 rows\n",
      "       Country  Year      Status  Life expectancy  Adult Mortality  \\\n",
      "2933  Zimbabwe  2004  Developing             44.3            723.0   \n",
      "2934  Zimbabwe  2003  Developing             44.5            715.0   \n",
      "2935  Zimbabwe  2002  Developing             44.8             73.0   \n",
      "2936  Zimbabwe  2001  Developing             45.3            686.0   \n",
      "2937  Zimbabwe  2000  Developing             46.0            665.0   \n",
      "\n",
      "      infant deaths  Alcohol  Percentage expenditure  Hepatitis B  Measles  \\\n",
      "2933             27     4.36                     0.0         68.0       31   \n",
      "2934             26     4.06                     0.0          7.0      998   \n",
      "2935             25     4.43                     0.0         73.0      304   \n",
      "2936             25     1.72                     0.0         76.0      529   \n",
      "2937             24     1.68                     0.0         79.0     1483   \n",
      "\n",
      "      ...  Polio  Total expenditure  Diphtheria  HIV/AIDS         GDP  \\\n",
      "2933  ...   67.0               7.13        65.0      33.6  454.366654   \n",
      "2934  ...    7.0               6.52        68.0      36.7  453.351155   \n",
      "2935  ...   73.0               6.53        71.0      39.8   57.348340   \n",
      "2936  ...   76.0               6.16        75.0      42.1  548.587312   \n",
      "2937  ...   78.0               7.10        78.0      43.5  547.358878   \n",
      "\n",
      "      Population  thinness 1-19 years  thinness 5-9 years  \\\n",
      "2933  12777511.0                  9.4                 9.4   \n",
      "2934  12633897.0                  9.8                 9.9   \n",
      "2935    125525.0                  1.2                 1.3   \n",
      "2936  12366165.0                  1.6                 1.7   \n",
      "2937  12222251.0                 11.0                11.2   \n",
      "\n",
      "      Income composition of resources  Schooling  \n",
      "2933                            0.407        9.2  \n",
      "2934                            0.418        9.5  \n",
      "2935                            0.427       10.0  \n",
      "2936                            0.427        9.8  \n",
      "2937                            0.434        9.8  \n",
      "\n",
      "[5 rows x 22 columns]\n",
      "\n",
      "Dataset shape: (2938, 22)\n"
     ]
    }
   ],
   "source": [
    "print(\"First 5 rows:\")\n",
    "print(\"first 5 row\")\n",
    "print(df.head())\n",
    "\n",
    "print(\"Last 5 rows\")\n",
    "print(df.tail())\n",
    "print(\"\\nDataset shape:\", df.shape)"
   ]
  },
  {
   "cell_type": "code",
   "execution_count": 6,
   "id": "35f2b8b5-03c0-48dd-a3a5-eb17f2210de5",
   "metadata": {},
   "outputs": [
    {
     "name": "stdout",
     "output_type": "stream",
     "text": [
      "Dataset Info:\n",
      "\n",
      "<class 'pandas.core.frame.DataFrame'>\n",
      "RangeIndex: 2938 entries, 0 to 2937\n",
      "Data columns (total 22 columns):\n",
      " #   Column                           Non-Null Count  Dtype  \n",
      "---  ------                           --------------  -----  \n",
      " 0   Country                          2938 non-null   object \n",
      " 1   Year                             2938 non-null   int64  \n",
      " 2   Status                           2938 non-null   object \n",
      " 3   Life expectancy                  2928 non-null   float64\n",
      " 4   Adult Mortality                  2928 non-null   float64\n",
      " 5   infant deaths                    2938 non-null   int64  \n",
      " 6   Alcohol                          2744 non-null   float64\n",
      " 7   Percentage expenditure           2938 non-null   float64\n",
      " 8   Hepatitis B                      2385 non-null   float64\n",
      " 9   Measles                          2938 non-null   int64  \n",
      " 10  BMI                              2904 non-null   float64\n",
      " 11  under-five deaths                2938 non-null   int64  \n",
      " 12  Polio                            2919 non-null   float64\n",
      " 13  Total expenditure                2712 non-null   float64\n",
      " 14  Diphtheria                       2919 non-null   float64\n",
      " 15  HIV/AIDS                         2938 non-null   float64\n",
      " 16  GDP                              2490 non-null   float64\n",
      " 17  Population                       2286 non-null   float64\n",
      " 18  thinness 1-19 years              2904 non-null   float64\n",
      " 19  thinness 5-9 years               2904 non-null   float64\n",
      " 20  Income composition of resources  2771 non-null   float64\n",
      " 21  Schooling                        2775 non-null   float64\n",
      "dtypes: float64(16), int64(4), object(2)\n",
      "memory usage: 505.1+ KB\n"
     ]
    }
   ],
   "source": [
    "print(\"Dataset Info:\\n\")\n",
    "df.info()"
   ]
  },
  {
   "cell_type": "markdown",
   "id": "00d73383-c1a2-4b71-90db-0b4699b38201",
   "metadata": {},
   "source": [
    "(a) Perform data cleaning and compute summary statistics for the dataset."
   ]
  },
  {
   "cell_type": "markdown",
   "id": "a3ed06d2-9acf-4525-bec1-0244dccd831b",
   "metadata": {},
   "source": [
    "Handle missing values"
   ]
  },
  {
   "cell_type": "code",
   "execution_count": 7,
   "id": "c5fb97b8-ceb4-4ffa-a636-f4b8c7dca9d0",
   "metadata": {},
   "outputs": [
    {
     "name": "stdout",
     "output_type": "stream",
     "text": [
      "Missing Values Before Handling:\n",
      "Population                         652\n",
      "Hepatitis B                        553\n",
      "GDP                                448\n",
      "Total expenditure                  226\n",
      "Alcohol                            194\n",
      "Income composition of resources    167\n",
      "Schooling                          163\n",
      "thinness 1-19 years                 34\n",
      "thinness 5-9 years                  34\n",
      "BMI                                 34\n",
      "Diphtheria                          19\n",
      "Polio                               19\n",
      "Life expectancy                     10\n",
      "Adult Mortality                     10\n",
      "infant deaths                        0\n",
      "Status                               0\n",
      "Country                              0\n",
      "Year                                 0\n",
      "under-five deaths                    0\n",
      "Measles                              0\n",
      "Percentage expenditure               0\n",
      "HIV/AIDS                             0\n",
      "dtype: int64\n"
     ]
    }
   ],
   "source": [
    "print(\"Missing Values Before Handling:\")\n",
    "print(df.isnull().sum().sort_values(ascending=False))"
   ]
  },
  {
   "cell_type": "code",
   "execution_count": 8,
   "id": "5d0c4a67-3b61-48df-a96b-0bb2c92914ec",
   "metadata": {},
   "outputs": [
    {
     "name": "stdout",
     "output_type": "stream",
     "text": [
      "\n",
      "Missing Values After Enhanced Handling:\n",
      "Country                            0\n",
      "Year                               0\n",
      "Status                             0\n",
      "Life expectancy                    0\n",
      "Adult Mortality                    0\n",
      "infant deaths                      0\n",
      "Alcohol                            0\n",
      "Percentage expenditure             0\n",
      "Hepatitis B                        0\n",
      "Measles                            0\n",
      "BMI                                0\n",
      "under-five deaths                  0\n",
      "Polio                              0\n",
      "Total expenditure                  0\n",
      "Diphtheria                         0\n",
      "HIV/AIDS                           0\n",
      "GDP                                0\n",
      "Population                         0\n",
      "thinness 1-19 years                0\n",
      "thinness 5-9 years                 0\n",
      "Income composition of resources    0\n",
      "Schooling                          0\n",
      "dtype: int64\n"
     ]
    }
   ],
   "source": [
    "# Step 1: Handle missing values in numeric columns\n",
    "numeric_cols = df.select_dtypes(include=['float64', 'int64']).columns.tolist()\n",
    "\n",
    "# Replace missing values with column-specific medians\n",
    "for col in numeric_cols:\n",
    "    median_value = df[col].median()\n",
    "    df[col] = df[col].fillna(median_value)\n",
    "\n",
    "# Step 2: Handle missing values in categorical columns\n",
    "categorical_cols = df.select_dtypes(include=['object']).columns.tolist()\n",
    "\n",
    "# Replace missing values with the mode of each column\n",
    "for col in categorical_cols:\n",
    "    mode_value = df[col].mode()[0] if not df[col].mode().empty else \"Unknown\"\n",
    "    df[col] = df[col].fillna(mode_value)\n",
    "\n",
    "# Step 3: Country-specific imputation for health-related metrics\n",
    "health_cols = ['Life expectancy', 'Adult Mortality', 'BMI', \n",
    "               'thinness 1-19 years', 'thinness 5-9 years']\n",
    "\n",
    "for col in health_cols:\n",
    "    # Calculate country-specific medians\n",
    "    country_medians = df.groupby('Country')[col].median()\n",
    "    df[col] = df.apply(\n",
    "        lambda row: country_medians[row['Country']] if pd.isnull(row[col]) else row[col],\n",
    "        axis=1\n",
    "    )\n",
    "    # Fill any remaining NaNs with global median\n",
    "    global_median = df[col].median()\n",
    "    df[col] = df[col].fillna(global_median)\n",
    "\n",
    "# Step 4: Status-based imputation for vaccination rates\n",
    "vaccine_cols = ['Polio', 'Diphtheria', 'Hepatitis B']\n",
    "\n",
    "for col in vaccine_cols:\n",
    "    # Calculate status-specific modes\n",
    "    status_modes = df.groupby('Status')[col].agg(lambda x: x.mode()[0] if not x.mode().empty else x.median())\n",
    "    df[col] = df.apply(\n",
    "        lambda row: status_modes[row['Status']] if pd.isnull(row[col]) else row[col],\n",
    "        axis=1\n",
    "    )\n",
    "    # Fill any remaining NaNs with global mode\n",
    "    global_mode = df[col].mode()[0] if not df[col].mode().empty else df[col].median()\n",
    "    df[col] = df[col].fillna(global_mode)\n",
    "\n",
    "# Step 5: Temporal filling for economic indicators\n",
    "economic_cols = ['GDP', 'Population', 'Income composition of resources']\n",
    "\n",
    "# Sort by Country and Year for forward/backward filling\n",
    "df = df.sort_values(['Country', 'Year'])\n",
    "\n",
    "for col in economic_cols:\n",
    "    # Forward fill within each country\n",
    "    df[col] = df.groupby('Country')[col].ffill()\n",
    "    # Backward fill within each country\n",
    "    df[col] = df.groupby('Country')[col].bfill()\n",
    "    # Fill any remaining NaNs with global median\n",
    "    global_median = df[col].median()\n",
    "    df[col] = df[col].fillna(global_median)\n",
    "\n",
    "# Step 6: Remaining columns (global median imputation)\n",
    "remaining_cols = ['Alcohol', 'Schooling', 'Total expenditure']\n",
    "\n",
    "for col in remaining_cols:\n",
    "    global_median = df[col].median()\n",
    "    df[col] = df[col].fillna(global_median)\n",
    "\n",
    "# Final Validation\n",
    "print(\"\\nMissing Values After Enhanced Handling:\")\n",
    "print(df.isnull().sum().sort_values(ascending=False))\n",
    "\n",
    "# Save the cleaned dataset\n",
    "df.to_csv(\"cleaned_life_expectancy.csv\", index=False)"
   ]
  },
  {
   "cell_type": "code",
   "execution_count": null,
   "id": "a6cdc7b2-0265-4a4a-8ea4-f3dc6d22ffb6",
   "metadata": {},
   "outputs": [],
   "source": []
  }
 ],
 "metadata": {
  "kernelspec": {
   "display_name": "Python 3 (ipykernel)",
   "language": "python",
   "name": "python3"
  },
  "language_info": {
   "codemirror_mode": {
    "name": "ipython",
    "version": 3
   },
   "file_extension": ".py",
   "mimetype": "text/x-python",
   "name": "python",
   "nbconvert_exporter": "python",
   "pygments_lexer": "ipython3",
   "version": "3.13.0"
  }
 },
 "nbformat": 4,
 "nbformat_minor": 5
}
